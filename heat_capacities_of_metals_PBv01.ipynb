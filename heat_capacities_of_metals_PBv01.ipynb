{
 "cells": [
  {
   "cell_type": "markdown",
   "metadata": {},
   "source": [
    "# Analysis of heat capacities of metals"
   ]
  },
  {
   "cell_type": "markdown",
   "metadata": {},
   "source": [
    "## References\n",
    "### Data\n",
    "https://www.engineersedge.com/materials/specific_heat_capacity_of_metals_13259.htm\n",
    "### Software\n",
    "#### Grab table from websites\n",
    "http://www.georgemike.com/"
   ]
  },
  {
   "cell_type": "markdown",
   "metadata": {},
   "source": [
    "# Libraries"
   ]
  },
  {
   "cell_type": "code",
   "execution_count": 121,
   "metadata": {},
   "outputs": [],
   "source": [
    "from pandas import DataFrame, read_csv\n",
    "import math\n",
    "import pandas as pd \n",
    "import numpy as np\n",
    "import os\n",
    "# for Bokeh use\n",
    "from bokeh.models import (HoverTool, FactorRange, Plot, LinearAxis, Grid,\n",
    "                          Range1d)\n",
    "from bokeh.models.glyphs import VBar\n",
    "from bokeh.plotting import figure\n",
    "from bokeh.embed import components\n",
    "from bokeh.models.sources import ColumnDataSource\n",
    "from bokeh.io import output_notebook, show"
   ]
  },
  {
   "cell_type": "markdown",
   "metadata": {},
   "source": [
    "# Read data\n",
    "## set working directory"
   ]
  },
  {
   "cell_type": "code",
   "execution_count": 122,
   "metadata": {},
   "outputs": [],
   "source": [
    "#working_directory ='/Users/peter/python/properties'\n",
    "#os.chdir(working_directory)"
   ]
  },
  {
   "cell_type": "markdown",
   "metadata": {},
   "source": [
    "# read CSV file"
   ]
  },
  {
   "cell_type": "code",
   "execution_count": 123,
   "metadata": {},
   "outputs": [],
   "source": [
    "file = \"heat_capacity_of_metals.csv\"\n",
    "Cp_metals = pd.read_csv(file, \n",
    "                        skiprows=1, \n",
    "                        skipinitialspace=True, \n",
    "                        sep=',', \n",
    "                        decimal = \".\",\n",
    "                        header= 0,\n",
    "                        parse_dates=[0]\n",
    "                         )"
   ]
  },
  {
   "cell_type": "markdown",
   "metadata": {},
   "source": [
    "## List headers"
   ]
  },
  {
   "cell_type": "code",
   "execution_count": 124,
   "metadata": {},
   "outputs": [
    {
     "data": {
      "text/plain": [
       "['Metal', 'Btu/(lb-°F)', 'J/(kg-K)', 'J/(g-°C)', 'Btu/(lb-°C)']"
      ]
     },
     "execution_count": 124,
     "metadata": {},
     "output_type": "execute_result"
    }
   ],
   "source": [
    "list(Cp_metals)"
   ]
  },
  {
   "cell_type": "markdown",
   "metadata": {},
   "source": [
    "# Plot data\n",
    "## plot destination"
   ]
  },
  {
   "cell_type": "code",
   "execution_count": 125,
   "metadata": {},
   "outputs": [
    {
     "data": {
      "text/html": [
       "\n",
       "    <div class=\"bk-root\">\n",
       "        <a href=\"https://bokeh.pydata.org\" target=\"_blank\" class=\"bk-logo bk-logo-small bk-logo-notebook\"></a>\n",
       "        <span id=\"4444\">Loading BokehJS ...</span>\n",
       "    </div>"
      ]
     },
     "metadata": {},
     "output_type": "display_data"
    },
    {
     "data": {
      "application/javascript": [
       "\n",
       "(function(root) {\n",
       "  function now() {\n",
       "    return new Date();\n",
       "  }\n",
       "\n",
       "  var force = true;\n",
       "\n",
       "  if (typeof root._bokeh_onload_callbacks === \"undefined\" || force === true) {\n",
       "    root._bokeh_onload_callbacks = [];\n",
       "    root._bokeh_is_loading = undefined;\n",
       "  }\n",
       "\n",
       "  var JS_MIME_TYPE = 'application/javascript';\n",
       "  var HTML_MIME_TYPE = 'text/html';\n",
       "  var EXEC_MIME_TYPE = 'application/vnd.bokehjs_exec.v0+json';\n",
       "  var CLASS_NAME = 'output_bokeh rendered_html';\n",
       "\n",
       "  /**\n",
       "   * Render data to the DOM node\n",
       "   */\n",
       "  function render(props, node) {\n",
       "    var script = document.createElement(\"script\");\n",
       "    node.appendChild(script);\n",
       "  }\n",
       "\n",
       "  /**\n",
       "   * Handle when an output is cleared or removed\n",
       "   */\n",
       "  function handleClearOutput(event, handle) {\n",
       "    var cell = handle.cell;\n",
       "\n",
       "    var id = cell.output_area._bokeh_element_id;\n",
       "    var server_id = cell.output_area._bokeh_server_id;\n",
       "    // Clean up Bokeh references\n",
       "    if (id != null && id in Bokeh.index) {\n",
       "      Bokeh.index[id].model.document.clear();\n",
       "      delete Bokeh.index[id];\n",
       "    }\n",
       "\n",
       "    if (server_id !== undefined) {\n",
       "      // Clean up Bokeh references\n",
       "      var cmd = \"from bokeh.io.state import curstate; print(curstate().uuid_to_server['\" + server_id + \"'].get_sessions()[0].document.roots[0]._id)\";\n",
       "      cell.notebook.kernel.execute(cmd, {\n",
       "        iopub: {\n",
       "          output: function(msg) {\n",
       "            var id = msg.content.text.trim();\n",
       "            if (id in Bokeh.index) {\n",
       "              Bokeh.index[id].model.document.clear();\n",
       "              delete Bokeh.index[id];\n",
       "            }\n",
       "          }\n",
       "        }\n",
       "      });\n",
       "      // Destroy server and session\n",
       "      var cmd = \"import bokeh.io.notebook as ion; ion.destroy_server('\" + server_id + \"')\";\n",
       "      cell.notebook.kernel.execute(cmd);\n",
       "    }\n",
       "  }\n",
       "\n",
       "  /**\n",
       "   * Handle when a new output is added\n",
       "   */\n",
       "  function handleAddOutput(event, handle) {\n",
       "    var output_area = handle.output_area;\n",
       "    var output = handle.output;\n",
       "\n",
       "    // limit handleAddOutput to display_data with EXEC_MIME_TYPE content only\n",
       "    if ((output.output_type != \"display_data\") || (!output.data.hasOwnProperty(EXEC_MIME_TYPE))) {\n",
       "      return\n",
       "    }\n",
       "\n",
       "    var toinsert = output_area.element.find(\".\" + CLASS_NAME.split(' ')[0]);\n",
       "\n",
       "    if (output.metadata[EXEC_MIME_TYPE][\"id\"] !== undefined) {\n",
       "      toinsert[toinsert.length - 1].firstChild.textContent = output.data[JS_MIME_TYPE];\n",
       "      // store reference to embed id on output_area\n",
       "      output_area._bokeh_element_id = output.metadata[EXEC_MIME_TYPE][\"id\"];\n",
       "    }\n",
       "    if (output.metadata[EXEC_MIME_TYPE][\"server_id\"] !== undefined) {\n",
       "      var bk_div = document.createElement(\"div\");\n",
       "      bk_div.innerHTML = output.data[HTML_MIME_TYPE];\n",
       "      var script_attrs = bk_div.children[0].attributes;\n",
       "      for (var i = 0; i < script_attrs.length; i++) {\n",
       "        toinsert[toinsert.length - 1].firstChild.setAttribute(script_attrs[i].name, script_attrs[i].value);\n",
       "      }\n",
       "      // store reference to server id on output_area\n",
       "      output_area._bokeh_server_id = output.metadata[EXEC_MIME_TYPE][\"server_id\"];\n",
       "    }\n",
       "  }\n",
       "\n",
       "  function register_renderer(events, OutputArea) {\n",
       "\n",
       "    function append_mime(data, metadata, element) {\n",
       "      // create a DOM node to render to\n",
       "      var toinsert = this.create_output_subarea(\n",
       "        metadata,\n",
       "        CLASS_NAME,\n",
       "        EXEC_MIME_TYPE\n",
       "      );\n",
       "      this.keyboard_manager.register_events(toinsert);\n",
       "      // Render to node\n",
       "      var props = {data: data, metadata: metadata[EXEC_MIME_TYPE]};\n",
       "      render(props, toinsert[toinsert.length - 1]);\n",
       "      element.append(toinsert);\n",
       "      return toinsert\n",
       "    }\n",
       "\n",
       "    /* Handle when an output is cleared or removed */\n",
       "    events.on('clear_output.CodeCell', handleClearOutput);\n",
       "    events.on('delete.Cell', handleClearOutput);\n",
       "\n",
       "    /* Handle when a new output is added */\n",
       "    events.on('output_added.OutputArea', handleAddOutput);\n",
       "\n",
       "    /**\n",
       "     * Register the mime type and append_mime function with output_area\n",
       "     */\n",
       "    OutputArea.prototype.register_mime_type(EXEC_MIME_TYPE, append_mime, {\n",
       "      /* Is output safe? */\n",
       "      safe: true,\n",
       "      /* Index of renderer in `output_area.display_order` */\n",
       "      index: 0\n",
       "    });\n",
       "  }\n",
       "\n",
       "  // register the mime type if in Jupyter Notebook environment and previously unregistered\n",
       "  if (root.Jupyter !== undefined) {\n",
       "    var events = require('base/js/events');\n",
       "    var OutputArea = require('notebook/js/outputarea').OutputArea;\n",
       "\n",
       "    if (OutputArea.prototype.mime_types().indexOf(EXEC_MIME_TYPE) == -1) {\n",
       "      register_renderer(events, OutputArea);\n",
       "    }\n",
       "  }\n",
       "\n",
       "  \n",
       "  if (typeof (root._bokeh_timeout) === \"undefined\" || force === true) {\n",
       "    root._bokeh_timeout = Date.now() + 5000;\n",
       "    root._bokeh_failed_load = false;\n",
       "  }\n",
       "\n",
       "  var NB_LOAD_WARNING = {'data': {'text/html':\n",
       "     \"<div style='background-color: #fdd'>\\n\"+\n",
       "     \"<p>\\n\"+\n",
       "     \"BokehJS does not appear to have successfully loaded. If loading BokehJS from CDN, this \\n\"+\n",
       "     \"may be due to a slow or bad network connection. Possible fixes:\\n\"+\n",
       "     \"</p>\\n\"+\n",
       "     \"<ul>\\n\"+\n",
       "     \"<li>re-rerun `output_notebook()` to attempt to load from CDN again, or</li>\\n\"+\n",
       "     \"<li>use INLINE resources instead, as so:</li>\\n\"+\n",
       "     \"</ul>\\n\"+\n",
       "     \"<code>\\n\"+\n",
       "     \"from bokeh.resources import INLINE\\n\"+\n",
       "     \"output_notebook(resources=INLINE)\\n\"+\n",
       "     \"</code>\\n\"+\n",
       "     \"</div>\"}};\n",
       "\n",
       "  function display_loaded() {\n",
       "    var el = document.getElementById(\"4444\");\n",
       "    if (el != null) {\n",
       "      el.textContent = \"BokehJS is loading...\";\n",
       "    }\n",
       "    if (root.Bokeh !== undefined) {\n",
       "      if (el != null) {\n",
       "        el.textContent = \"BokehJS \" + root.Bokeh.version + \" successfully loaded.\";\n",
       "      }\n",
       "    } else if (Date.now() < root._bokeh_timeout) {\n",
       "      setTimeout(display_loaded, 100)\n",
       "    }\n",
       "  }\n",
       "\n",
       "\n",
       "  function run_callbacks() {\n",
       "    try {\n",
       "      root._bokeh_onload_callbacks.forEach(function(callback) {\n",
       "        if (callback != null)\n",
       "          callback();\n",
       "      });\n",
       "    } finally {\n",
       "      delete root._bokeh_onload_callbacks\n",
       "    }\n",
       "    console.debug(\"Bokeh: all callbacks have finished\");\n",
       "  }\n",
       "\n",
       "  function load_libs(css_urls, js_urls, callback) {\n",
       "    if (css_urls == null) css_urls = [];\n",
       "    if (js_urls == null) js_urls = [];\n",
       "\n",
       "    root._bokeh_onload_callbacks.push(callback);\n",
       "    if (root._bokeh_is_loading > 0) {\n",
       "      console.debug(\"Bokeh: BokehJS is being loaded, scheduling callback at\", now());\n",
       "      return null;\n",
       "    }\n",
       "    if (js_urls == null || js_urls.length === 0) {\n",
       "      run_callbacks();\n",
       "      return null;\n",
       "    }\n",
       "    console.debug(\"Bokeh: BokehJS not loaded, scheduling load and callback at\", now());\n",
       "    root._bokeh_is_loading = css_urls.length + js_urls.length;\n",
       "\n",
       "    function on_load() {\n",
       "      root._bokeh_is_loading--;\n",
       "      if (root._bokeh_is_loading === 0) {\n",
       "        console.debug(\"Bokeh: all BokehJS libraries/stylesheets loaded\");\n",
       "        run_callbacks()\n",
       "      }\n",
       "    }\n",
       "\n",
       "    function on_error() {\n",
       "      console.error(\"failed to load \" + url);\n",
       "    }\n",
       "\n",
       "    for (var i = 0; i < css_urls.length; i++) {\n",
       "      var url = css_urls[i];\n",
       "      const element = document.createElement(\"link\");\n",
       "      element.onload = on_load;\n",
       "      element.onerror = on_error;\n",
       "      element.rel = \"stylesheet\";\n",
       "      element.type = \"text/css\";\n",
       "      element.href = url;\n",
       "      console.debug(\"Bokeh: injecting link tag for BokehJS stylesheet: \", url);\n",
       "      document.body.appendChild(element);\n",
       "    }\n",
       "\n",
       "    for (var i = 0; i < js_urls.length; i++) {\n",
       "      var url = js_urls[i];\n",
       "      var element = document.createElement('script');\n",
       "      element.onload = on_load;\n",
       "      element.onerror = on_error;\n",
       "      element.async = false;\n",
       "      element.src = url;\n",
       "      console.debug(\"Bokeh: injecting script tag for BokehJS library: \", url);\n",
       "      document.head.appendChild(element);\n",
       "    }\n",
       "  };var element = document.getElementById(\"4444\");\n",
       "  if (element == null) {\n",
       "    console.error(\"Bokeh: ERROR: autoload.js configured with elementid '4444' but no matching script tag was found. \")\n",
       "    return false;\n",
       "  }\n",
       "\n",
       "  function inject_raw_css(css) {\n",
       "    const element = document.createElement(\"style\");\n",
       "    element.appendChild(document.createTextNode(css));\n",
       "    document.body.appendChild(element);\n",
       "  }\n",
       "\n",
       "  var js_urls = [\"https://cdn.pydata.org/bokeh/release/bokeh-1.2.0.min.js\", \"https://cdn.pydata.org/bokeh/release/bokeh-widgets-1.2.0.min.js\", \"https://cdn.pydata.org/bokeh/release/bokeh-tables-1.2.0.min.js\", \"https://cdn.pydata.org/bokeh/release/bokeh-gl-1.2.0.min.js\"];\n",
       "  var css_urls = [\"https://cdn.pydata.org/bokeh/release/bokeh-1.2.0.min.css\", \"https://cdn.pydata.org/bokeh/release/bokeh-widgets-1.2.0.min.css\", \"https://cdn.pydata.org/bokeh/release/bokeh-tables-1.2.0.min.css\"];\n",
       "\n",
       "  var inline_js = [\n",
       "    function(Bokeh) {\n",
       "      Bokeh.set_log_level(\"info\");\n",
       "    },\n",
       "    \n",
       "    function(Bokeh) {\n",
       "      \n",
       "    },\n",
       "    function(Bokeh) {} // ensure no trailing comma for IE\n",
       "  ];\n",
       "\n",
       "  function run_inline_js() {\n",
       "    \n",
       "    if ((root.Bokeh !== undefined) || (force === true)) {\n",
       "      for (var i = 0; i < inline_js.length; i++) {\n",
       "        inline_js[i].call(root, root.Bokeh);\n",
       "      }if (force === true) {\n",
       "        display_loaded();\n",
       "      }} else if (Date.now() < root._bokeh_timeout) {\n",
       "      setTimeout(run_inline_js, 100);\n",
       "    } else if (!root._bokeh_failed_load) {\n",
       "      console.log(\"Bokeh: BokehJS failed to load within specified timeout.\");\n",
       "      root._bokeh_failed_load = true;\n",
       "    } else if (force !== true) {\n",
       "      var cell = $(document.getElementById(\"4444\")).parents('.cell').data().cell;\n",
       "      cell.output_area.append_execute_result(NB_LOAD_WARNING)\n",
       "    }\n",
       "\n",
       "  }\n",
       "\n",
       "  if (root._bokeh_is_loading === 0) {\n",
       "    console.debug(\"Bokeh: BokehJS loaded, going straight to plotting\");\n",
       "    run_inline_js();\n",
       "  } else {\n",
       "    load_libs(css_urls, js_urls, function() {\n",
       "      console.debug(\"Bokeh: BokehJS plotting callback run at\", now());\n",
       "      run_inline_js();\n",
       "    });\n",
       "  }\n",
       "}(window));"
      ],
      "application/vnd.bokehjs_load.v0+json": "\n(function(root) {\n  function now() {\n    return new Date();\n  }\n\n  var force = true;\n\n  if (typeof root._bokeh_onload_callbacks === \"undefined\" || force === true) {\n    root._bokeh_onload_callbacks = [];\n    root._bokeh_is_loading = undefined;\n  }\n\n  \n\n  \n  if (typeof (root._bokeh_timeout) === \"undefined\" || force === true) {\n    root._bokeh_timeout = Date.now() + 5000;\n    root._bokeh_failed_load = false;\n  }\n\n  var NB_LOAD_WARNING = {'data': {'text/html':\n     \"<div style='background-color: #fdd'>\\n\"+\n     \"<p>\\n\"+\n     \"BokehJS does not appear to have successfully loaded. If loading BokehJS from CDN, this \\n\"+\n     \"may be due to a slow or bad network connection. Possible fixes:\\n\"+\n     \"</p>\\n\"+\n     \"<ul>\\n\"+\n     \"<li>re-rerun `output_notebook()` to attempt to load from CDN again, or</li>\\n\"+\n     \"<li>use INLINE resources instead, as so:</li>\\n\"+\n     \"</ul>\\n\"+\n     \"<code>\\n\"+\n     \"from bokeh.resources import INLINE\\n\"+\n     \"output_notebook(resources=INLINE)\\n\"+\n     \"</code>\\n\"+\n     \"</div>\"}};\n\n  function display_loaded() {\n    var el = document.getElementById(\"4444\");\n    if (el != null) {\n      el.textContent = \"BokehJS is loading...\";\n    }\n    if (root.Bokeh !== undefined) {\n      if (el != null) {\n        el.textContent = \"BokehJS \" + root.Bokeh.version + \" successfully loaded.\";\n      }\n    } else if (Date.now() < root._bokeh_timeout) {\n      setTimeout(display_loaded, 100)\n    }\n  }\n\n\n  function run_callbacks() {\n    try {\n      root._bokeh_onload_callbacks.forEach(function(callback) {\n        if (callback != null)\n          callback();\n      });\n    } finally {\n      delete root._bokeh_onload_callbacks\n    }\n    console.debug(\"Bokeh: all callbacks have finished\");\n  }\n\n  function load_libs(css_urls, js_urls, callback) {\n    if (css_urls == null) css_urls = [];\n    if (js_urls == null) js_urls = [];\n\n    root._bokeh_onload_callbacks.push(callback);\n    if (root._bokeh_is_loading > 0) {\n      console.debug(\"Bokeh: BokehJS is being loaded, scheduling callback at\", now());\n      return null;\n    }\n    if (js_urls == null || js_urls.length === 0) {\n      run_callbacks();\n      return null;\n    }\n    console.debug(\"Bokeh: BokehJS not loaded, scheduling load and callback at\", now());\n    root._bokeh_is_loading = css_urls.length + js_urls.length;\n\n    function on_load() {\n      root._bokeh_is_loading--;\n      if (root._bokeh_is_loading === 0) {\n        console.debug(\"Bokeh: all BokehJS libraries/stylesheets loaded\");\n        run_callbacks()\n      }\n    }\n\n    function on_error() {\n      console.error(\"failed to load \" + url);\n    }\n\n    for (var i = 0; i < css_urls.length; i++) {\n      var url = css_urls[i];\n      const element = document.createElement(\"link\");\n      element.onload = on_load;\n      element.onerror = on_error;\n      element.rel = \"stylesheet\";\n      element.type = \"text/css\";\n      element.href = url;\n      console.debug(\"Bokeh: injecting link tag for BokehJS stylesheet: \", url);\n      document.body.appendChild(element);\n    }\n\n    for (var i = 0; i < js_urls.length; i++) {\n      var url = js_urls[i];\n      var element = document.createElement('script');\n      element.onload = on_load;\n      element.onerror = on_error;\n      element.async = false;\n      element.src = url;\n      console.debug(\"Bokeh: injecting script tag for BokehJS library: \", url);\n      document.head.appendChild(element);\n    }\n  };var element = document.getElementById(\"4444\");\n  if (element == null) {\n    console.error(\"Bokeh: ERROR: autoload.js configured with elementid '4444' but no matching script tag was found. \")\n    return false;\n  }\n\n  function inject_raw_css(css) {\n    const element = document.createElement(\"style\");\n    element.appendChild(document.createTextNode(css));\n    document.body.appendChild(element);\n  }\n\n  var js_urls = [\"https://cdn.pydata.org/bokeh/release/bokeh-1.2.0.min.js\", \"https://cdn.pydata.org/bokeh/release/bokeh-widgets-1.2.0.min.js\", \"https://cdn.pydata.org/bokeh/release/bokeh-tables-1.2.0.min.js\", \"https://cdn.pydata.org/bokeh/release/bokeh-gl-1.2.0.min.js\"];\n  var css_urls = [\"https://cdn.pydata.org/bokeh/release/bokeh-1.2.0.min.css\", \"https://cdn.pydata.org/bokeh/release/bokeh-widgets-1.2.0.min.css\", \"https://cdn.pydata.org/bokeh/release/bokeh-tables-1.2.0.min.css\"];\n\n  var inline_js = [\n    function(Bokeh) {\n      Bokeh.set_log_level(\"info\");\n    },\n    \n    function(Bokeh) {\n      \n    },\n    function(Bokeh) {} // ensure no trailing comma for IE\n  ];\n\n  function run_inline_js() {\n    \n    if ((root.Bokeh !== undefined) || (force === true)) {\n      for (var i = 0; i < inline_js.length; i++) {\n        inline_js[i].call(root, root.Bokeh);\n      }if (force === true) {\n        display_loaded();\n      }} else if (Date.now() < root._bokeh_timeout) {\n      setTimeout(run_inline_js, 100);\n    } else if (!root._bokeh_failed_load) {\n      console.log(\"Bokeh: BokehJS failed to load within specified timeout.\");\n      root._bokeh_failed_load = true;\n    } else if (force !== true) {\n      var cell = $(document.getElementById(\"4444\")).parents('.cell').data().cell;\n      cell.output_area.append_execute_result(NB_LOAD_WARNING)\n    }\n\n  }\n\n  if (root._bokeh_is_loading === 0) {\n    console.debug(\"Bokeh: BokehJS loaded, going straight to plotting\");\n    run_inline_js();\n  } else {\n    load_libs(css_urls, js_urls, function() {\n      console.debug(\"Bokeh: BokehJS plotting callback run at\", now());\n      run_inline_js();\n    });\n  }\n}(window));"
     },
     "metadata": {},
     "output_type": "display_data"
    }
   ],
   "source": [
    "output_notebook()"
   ]
  },
  {
   "cell_type": "markdown",
   "metadata": {},
   "source": [
    "## Bar plot"
   ]
  },
  {
   "cell_type": "code",
   "execution_count": 126,
   "metadata": {},
   "outputs": [
    {
     "data": {
      "text/html": [
       "\n",
       "\n",
       "\n",
       "\n",
       "\n",
       "\n",
       "  <div class=\"bk-root\" id=\"25974c02-589a-4611-b1d8-aed96c5b0f50\" data-root-id=\"4448\"></div>\n"
      ]
     },
     "metadata": {},
     "output_type": "display_data"
    },
    {
     "data": {
      "application/javascript": [
       "(function(root) {\n",
       "  function embed_document(root) {\n",
       "    \n",
       "  var docs_json = {\"b30f199d-7c1f-4206-9ef5-2477dbfa2dfb\":{\"roots\":{\"references\":[{\"attributes\":{\"below\":[{\"id\":\"4457\",\"type\":\"CategoricalAxis\"}],\"center\":[{\"id\":\"4460\",\"type\":\"Grid\"},{\"id\":\"4465\",\"type\":\"Grid\"},{\"id\":\"4473\",\"type\":\"Grid\"},{\"id\":\"4475\",\"type\":\"Grid\"}],\"left\":[{\"id\":\"4461\",\"type\":\"LinearAxis\"}],\"min_border\":10,\"min_border_top\":0,\"plot_height\":500,\"plot_width\":1200,\"renderers\":[{\"id\":\"4468\",\"type\":\"GlyphRenderer\"}],\"title\":{\"id\":\"4449\",\"type\":\"Title\"},\"toolbar\":{\"id\":\"4466\",\"type\":\"Toolbar\"},\"toolbar_location\":\"above\",\"x_range\":{\"id\":\"4446\",\"type\":\"FactorRange\"},\"x_scale\":{\"id\":\"4453\",\"type\":\"CategoricalScale\"},\"y_range\":{\"id\":\"4447\",\"type\":\"Range1d\"},\"y_scale\":{\"id\":\"4455\",\"type\":\"LinearScale\"}},\"id\":\"4448\",\"subtype\":\"Figure\",\"type\":\"Plot\"},{\"attributes\":{},\"id\":\"4453\",\"type\":\"CategoricalScale\"},{\"attributes\":{\"text\":\"specific heat capacity of metals\"},\"id\":\"4449\",\"type\":\"Title\"},{\"attributes\":{\"dimension\":1,\"grid_line_alpha\":0.1,\"grid_line_color\":\"#999999\",\"ticker\":{\"id\":\"4474\",\"type\":\"BasicTicker\"}},\"id\":\"4475\",\"type\":\"Grid\"},{\"attributes\":{},\"id\":\"4618\",\"type\":\"Selection\"},{\"attributes\":{\"callback\":null,\"tooltips\":[[\"Metal\",\"@Metal\"],[\"Cp\",\"@{J/(kg-K)}\"]]},\"id\":\"4477\",\"type\":\"HoverTool\"},{\"attributes\":{\"fill_color\":{\"value\":\"#6599ed\"},\"top\":{\"field\":\"J/(kg-K)\"},\"width\":{\"value\":0.8},\"x\":{\"field\":\"Metal\"}},\"id\":\"4467\",\"type\":\"VBar\"},{\"attributes\":{\"grid_line_color\":null,\"ticker\":{\"id\":\"4472\",\"type\":\"BasicTicker\"}},\"id\":\"4473\",\"type\":\"Grid\"},{\"attributes\":{\"axis_label\":\"specific heat capacity [J/(kg-K)]\",\"formatter\":{\"id\":\"4615\",\"type\":\"BasicTickFormatter\"},\"ticker\":{\"id\":\"4462\",\"type\":\"BasicTicker\"}},\"id\":\"4461\",\"type\":\"LinearAxis\"},{\"attributes\":{},\"id\":\"4455\",\"type\":\"LinearScale\"},{\"attributes\":{},\"id\":\"4474\",\"type\":\"BasicTicker\"},{\"attributes\":{},\"id\":\"4617\",\"type\":\"UnionRenderers\"},{\"attributes\":{\"data_source\":{\"id\":\"4445\",\"type\":\"ColumnDataSource\"},\"glyph\":{\"id\":\"4467\",\"type\":\"VBar\"},\"hover_glyph\":null,\"muted_glyph\":null,\"view\":{\"id\":\"4469\",\"type\":\"CDSView\"}},\"id\":\"4468\",\"type\":\"GlyphRenderer\"},{\"attributes\":{},\"id\":\"4472\",\"type\":\"BasicTicker\"},{\"attributes\":{\"callback\":null,\"factors\":[\"AlBeMet\",\"Aluminum\",\"Antimony\",\"Barium\",\"Beryllium\",\"Bismuth\",\"Brass (Yellow)\",\"Cadmium\",\"Calsium\",\"Carbon Steel\",\"Cast Iron\",\"Cesium\",\"Chromium\",\"Cobalt\",\"Copper\",\"Gallium\",\"Germanium\",\"Gold\",\"Hafnium\",\"Incoloy 800\",\"Incoloy 600\",\"Indium\",\"Iridium\",\"Iron\",\"Lanthanum\",\"Lead\",\"Lead Liquid\",\"Lithium\",\"Lutetium\",\"Magnesium\",\"Manganese\",\"Mercury\",\"Molybdenum\",\"Monel 400\",\"Nickel\",\"Nichrome (80%NI - 20% Cr)\",\"Niobium (Columbium)\",\"Osmium\",\"Palladium\",\"Platinum\",\"Plutonium\",\"Potassium\",\"Rhenium\",\"Rhodium\",\"Rubidium\",\"Ruthenium\",\"Scandium\",\"Selenium\",\"Silicon\",\"Silver\",\"Sodium\",\"Solder (50% Pb-50% Sn)\",\"Steel, Mild\",\"Steel, Stainless 304\",\"Steel, Stainless 430\",\"Strontium\",\"Tantalum\",\"Thallium\",\"Thorium\",\"Tin (Liquid)\",\"Tin (Solid)\",\"Titanium 99%\",\"Tungsten\",\"Uranium\",\"Vanadium\",\"Yttrium\",\"Zinc\",\"Zirconium\",\"Wrought Iron\"]},\"id\":\"4446\",\"type\":\"FactorRange\"},{\"attributes\":{\"source\":{\"id\":\"4445\",\"type\":\"ColumnDataSource\"}},\"id\":\"4469\",\"type\":\"CDSView\"},{\"attributes\":{\"callback\":null,\"data\":{\"Btu/(lb-\\u00b0C)\":{\"__ndarray__\":\"I9v5fmq85D/y0k1iEFjZPwrXo3A9Crc/rthfdk8etj9b07zjFB3pP9rO91Pjpas/rthfdk8exj/y0k1iEFi5P0jhehSuR9E/2s73U+Olyz/y0k1iEFjJP07RkVz+Q7o/8tJNYhBYyT8K16NwPQrHPyPb+X5qvMQ/9dvXgXNGxD/f4AuTqYLBP9rO91Pjpas/78nDQq1prj/AyqFFtvPNP2TMXUvIB80/TtGRXP5Duj9BYOXQItvhP/LSTWIQWMk/f9k9eViotT/azvdT46WrP7Hh6ZWyDLE/exSuR+F6+D+C4seYu5awP83MzMzMzNw/TtGRXP5Dyj/azvdT46WrP8TJ/Q5Fgb4/8tJNYhBYyT/azvdT46XLP/LSTWIQWMk/kst/SL99vT82zTtO0ZGsP07RkVz+Q7o/2s73U+Olqz+Sy39Iv32tPyPb+X5qvNQ/78nDQq1prj990LNZ9bm6P8bctYR80MM/TtGRXP5Duj9U46WbxCDQP3bgnBGlvcE/L90kBoGV0z9O0ZFc/kO6P05iEFg5tOA/OdbFbTSAtz8HzhlR2hvMP9rO91Pjpcs/8tJNYhBYyT+C4seYu5bAP+/Jw0Ktaa4/2s73U+Olqz/azvdT46WrPwrXo3A9Crc/Z9Xnaiv2tz/AyqFFtvPNP5LLf0i/fa0/INJvXwfOqT990LNZ9bnKP4Lix5i7lsA/I9v5fmq8xD/azvdT46W7P9rO91Pjpcs/\",\"dtype\":\"float64\",\"shape\":[69]},\"Btu/(lb-\\u00b0F)\":{\"__ndarray__\":\"CtejcD0K1z8pXI/C9SjMP5qZmZmZmak/+n5qvHSTqD+BlUOLbOfbP7gehetRuJ4/+n5qvHSTuD8pXI/C9SisPzMzMzMzM8M/uB6F61G4vj8pXI/C9Si8P8l2vp8aL60/KVyPwvUovD+amZmZmZm5PwrXo3A9Crc/u0kMAiuHtj/b+X5qvHSzP7gehetRuJ4/TDeJQWDloD+kcD0K16PAP1TjpZvEIMA/yXa+nxovrT/Xo3A9CtfTPylcj8L1KLw/qvHSTWIQqD+4HoXrUbieP4xs5/up8aI/MzMzMzMz6z8830+Nl26iPwAAAAAAANA/yXa+nxovvT+4HoXrUbieP0w3iUFg5bA/KVyPwvUovD+4HoXrUbi+Pylcj8L1KLw//Knx0k1isD9YObTIdr6fP8l2vp8aL60/uB6F61G4nj/8qfHSTWKgPwrXo3A9Csc/TDeJQWDloD8YBFYOLbKtP2q8dJMYBLY/yXa+nxovrT/sUbgehevBP4PAyqFFtrM/w/UoXI/CxT/Jdr6fGi+tP4/C9Shcj9I/6SYxCKwcqj8IrBxaZDu/P7gehetRuL4/KVyPwvUovD8830+Nl26yP0w3iUFg5aA/uB6F61G4nj+4HoXrUbieP5qZmZmZmak/OrTIdr6fqj+kcD0K16PAP/yp8dJNYqA/eOkmMQisnD8YBFYOLbK9PzzfT42XbrI/CtejcD0Ktz+4HoXrUbiuP7gehetRuL4/\",\"dtype\":\"float64\",\"shape\":[69]},\"J/(g-\\u00b0C)\":{\"__ndarray__\":\"7WEvFLAd+D/MPo9RnnntP11Q3zKny8o/MCTMWUS5yT/Cc0qbBTX9P56WH7jKE8A/MCTMWUS52T/MPo9RnnnNP0Z8J2a9GOQ/npYfuMoT4D/MPo9RnnndP/pqoioBjM4/zD6PUZ553T9dUN8yp8vaP+1hLxSwHdg/18ulp36U1z9RR2wcVl3UP56WH7jKE8A/4Vi8/V6vwT/WjXdHxmrhP8D37dqU4eA/+mqiKgGMzj/id9MtO8T0P8w+j1Geed0/Go5C7RIwyT+elh+4yhPAPzux4q8k1MM/ZEUNpmF4DEAkG1lD80rDPzqSy39Iv/A/+mqiKgGM3j+elh+4yhPAP32BMCIXvdE/zD6PUZ553T+elh+4yhPgP8w+j1Geed0/y8IykS0m0T+1LKkk/JzAP/pqoioBjM4/npYfuMoTwD/LwjKRLSbBP+1hLxSwHeg/4Vi8/V6vwT8QASyXMhXPP8A1HDtNC9c/+mqiKgGMzj8Ohc/WwcHiP1wSsdLuodQ/tmrXhLTG5j/6aqIqAYzOP6qAe54/bfM/dOZon9hUyz+pYWRuY1jgP56WH7jKE+A/zD6PUZ553T8kG1lD80rTP+FYvP1er8E/npYfuMoTwD+elh+4yhPAP11Q3zKny8o/inzyCwreyz/WjXdHxmrhP8vCMpEtJsE/4tQYvs8Cvj8QASyXMhXfPyQbWUPzStM/7WEvFLAd2D+elh+4yhPQP56WH7jKE+A/\",\"dtype\":\"float64\",\"shape\":[69]},\"J/(kg-K)\":{\"__ndarray__\":\"oUW28/2Ml0BU46WbxMiMQHsUrkfhKmpAV1uxv+weaUALtaZ5x4WcQC2yne+nZl9AV1uxv+weeUBU46WbxMhsQFyPwvUooINALbKd76dmf0BU46WbxMh8QHicoiO51G1AVOOlm8TIfEB7FK5H4Sp6QKFFtvP9jHdAEOm3rwMHd0ClvcEXJuNzQC2yne+nZl9AzO7Jw0JFYUCDwMqhRQKBQPFjzF1LfIBAeJyiI7nUbUATg8DKoUeUQFTjpZvEyHxAxf6ye/KYaEAtsp3vp2ZfQBNhw9MrXWNAw/UoXI/Nq0CBBMWPMddiQM3MzMzMWpBAeJyiI7nUfUAtsp3vp2ZfQHReY5eoUnFAVOOlm8TIfEAtsp3vp2Z/QFTjpZvEyHxAOpLLf0i/cECoNc07TjlgQHicoiO51G1ALbKd76dmX0A6kst/SL9gQKFFtvP9jIdAzO7Jw0JFYUAJ+aBns1puQH6MuWsJgXZAeJyiI7nUbUDvp8ZLN1GCQO7rwDkjJnRANl66SQw+hkB4nKIjudRtQKabxCCw+JJADXGsi9uwakC/Dpwzoux/QC2yne+nZn9AVOOlm8TIfECBBMWPMddyQMzuycNCRWFALbKd76dmX0Atsp3vp2ZfQHsUrkfhKmpAn82qz9U2a0CDwMqhRQKBQDqSy39Iv2BA5j+k375OXUAJ+aBns1p+QIEExY8x13JAoUW28/2Md0Atsp3vp2ZvQC2yne+nZn9A\",\"dtype\":\"float64\",\"shape\":[69]},\"Metal\":[\"AlBeMet\",\"Aluminum\",\"Antimony\",\"Barium\",\"Beryllium\",\"Bismuth\",\"Brass (Yellow)\",\"Cadmium\",\"Calsium\",\"Carbon Steel\",\"Cast Iron\",\"Cesium\",\"Chromium\",\"Cobalt\",\"Copper\",\"Gallium\",\"Germanium\",\"Gold\",\"Hafnium\",\"Incoloy 800\",\"Incoloy 600\",\"Indium\",\"Iridium\",\"Iron\",\"Lanthanum\",\"Lead\",\"Lead Liquid\",\"Lithium\",\"Lutetium\",\"Magnesium\",\"Manganese\",\"Mercury\",\"Molybdenum\",\"Monel 400\",\"Nickel\",\"Nichrome (80%NI - 20% Cr)\",\"Niobium (Columbium)\",\"Osmium\",\"Palladium\",\"Platinum\",\"Plutonium\",\"Potassium\",\"Rhenium\",\"Rhodium\",\"Rubidium\",\"Ruthenium\",\"Scandium\",\"Selenium\",\"Silicon\",\"Silver\",\"Sodium\",\"Solder (50% Pb-50% Sn)\",\"Steel, Mild\",\"Steel, Stainless 304\",\"Steel, Stainless 430\",\"Strontium\",\"Tantalum\",\"Thallium\",\"Thorium\",\"Tin (Liquid)\",\"Tin (Solid)\",\"Titanium 99%\",\"Tungsten\",\"Uranium\",\"Vanadium\",\"Yttrium\",\"Zinc\",\"Zirconium\",\"Wrought Iron\"],\"index\":[0,1,2,3,4,5,6,7,8,9,10,11,12,13,14,15,16,17,18,19,20,21,22,23,24,25,26,27,28,29,30,31,32,33,34,35,36,37,38,39,40,41,42,43,44,45,46,47,48,49,50,51,52,53,54,55,56,57,58,59,60,61,62,63,64,65,66,67,68]},\"selected\":{\"id\":\"4618\",\"type\":\"Selection\"},\"selection_policy\":{\"id\":\"4617\",\"type\":\"UnionRenderers\"}},\"id\":\"4445\",\"type\":\"ColumnDataSource\"},{\"attributes\":{\"callback\":null,\"end\":4270.536},\"id\":\"4447\",\"type\":\"Range1d\"},{\"attributes\":{\"active_drag\":\"auto\",\"active_inspect\":\"auto\",\"active_multi\":null,\"active_scroll\":\"auto\",\"active_tap\":\"auto\",\"logo\":null,\"tools\":[{\"id\":\"4477\",\"type\":\"HoverTool\"}]},\"id\":\"4466\",\"type\":\"Toolbar\"},{\"attributes\":{\"dimension\":1,\"grid_line_alpha\":0.1,\"grid_line_color\":\"#999999\",\"ticker\":{\"id\":\"4462\",\"type\":\"BasicTicker\"}},\"id\":\"4465\",\"type\":\"Grid\"},{\"attributes\":{},\"id\":\"4462\",\"type\":\"BasicTicker\"},{\"attributes\":{\"grid_line_color\":null,\"ticker\":{\"id\":\"4458\",\"type\":\"CategoricalTicker\"}},\"id\":\"4460\",\"type\":\"Grid\"},{\"attributes\":{},\"id\":\"4615\",\"type\":\"BasicTickFormatter\"},{\"attributes\":{},\"id\":\"4458\",\"type\":\"CategoricalTicker\"},{\"attributes\":{\"axis_label\":\"Metal\",\"formatter\":{\"id\":\"4613\",\"type\":\"CategoricalTickFormatter\"},\"major_label_orientation\":1,\"ticker\":{\"id\":\"4458\",\"type\":\"CategoricalTicker\"}},\"id\":\"4457\",\"type\":\"CategoricalAxis\"},{\"attributes\":{},\"id\":\"4613\",\"type\":\"CategoricalTickFormatter\"}],\"root_ids\":[\"4448\"]},\"title\":\"Bokeh Application\",\"version\":\"1.2.0\"}};\n",
       "  var render_items = [{\"docid\":\"b30f199d-7c1f-4206-9ef5-2477dbfa2dfb\",\"roots\":{\"4448\":\"25974c02-589a-4611-b1d8-aed96c5b0f50\"}}];\n",
       "  root.Bokeh.embed.embed_items_notebook(docs_json, render_items);\n",
       "\n",
       "  }\n",
       "  if (root.Bokeh !== undefined) {\n",
       "    embed_document(root);\n",
       "  } else {\n",
       "    var attempts = 0;\n",
       "    var timer = setInterval(function(root) {\n",
       "      if (root.Bokeh !== undefined) {\n",
       "        embed_document(root);\n",
       "        clearInterval(timer);\n",
       "      }\n",
       "      attempts++;\n",
       "      if (attempts > 100) {\n",
       "        console.log(\"Bokeh: ERROR: Unable to run BokehJS code because BokehJS library is missing\");\n",
       "        clearInterval(timer);\n",
       "      }\n",
       "    }, 10, root)\n",
       "  }\n",
       "})(window);"
      ],
      "application/vnd.bokehjs_exec.v0+json": ""
     },
     "metadata": {
      "application/vnd.bokehjs_exec.v0+json": {
       "id": "4448"
      }
     },
     "output_type": "display_data"
    }
   ],
   "source": [
    "source = ColumnDataSource(Cp_metals)\n",
    "xdr = FactorRange(factors=Cp_metals['Metal'])\n",
    "ydr = Range1d(start=0,end=max(Cp_metals['J/(kg-K)']*1.2))\n",
    "\n",
    "plot = figure(title='specific heat capacity of metals', x_range=xdr, y_range=ydr, plot_width=1200,\n",
    "                  plot_height=500, \n",
    "                  min_border=10, toolbar_location=\"above\", tools=\"\")\n",
    "\n",
    "glyph = VBar(x=\"Metal\", top='J/(kg-K)', bottom=0, width=.8,\n",
    "                 fill_color=\"#6599ed\")\n",
    "\n",
    "plot.add_glyph(source, glyph)\n",
    "\n",
    "xaxis = LinearAxis()\n",
    "yaxis = LinearAxis()\n",
    "\n",
    "plot.add_layout(Grid(dimension=0, ticker=xaxis.ticker))\n",
    "plot.add_layout(Grid(dimension=1, ticker=yaxis.ticker))\n",
    "plot.toolbar.logo = None\n",
    "plot.min_border_top = 0\n",
    "plot.xgrid.grid_line_color = None\n",
    "plot.ygrid.grid_line_color = \"#999999\"\n",
    "plot.yaxis.axis_label = \"specific heat capacity [J/(kg-K)]\"\n",
    "plot.ygrid.grid_line_alpha = 0.1\n",
    "plot.xaxis.axis_label = \"Metal\"\n",
    "plot.xaxis.major_label_orientation = 1\n",
    "\n",
    "plot.add_tools(HoverTool(tooltips=[(\"Metal\", \"@Metal\"),(\"Cp\", \"@{J/(kg-K)}\")]))\n",
    "\n",
    "show(plot)"
   ]
  },
  {
   "cell_type": "code",
   "execution_count": 127,
   "metadata": {},
   "outputs": [
    {
     "name": "stdout",
     "output_type": "stream",
     "text": [
      "Specific storage costs in €/kWh: 132.24489795918367\n"
     ]
    }
   ],
   "source": [
    "steel_price_per_ton    = 900    # EUR/ton\n",
    "steel_Cp_average       = 490    # J/kgK\n",
    "delta_T_useful         = 300    # K\n",
    "roundtrip_efficiency   = 0.5    # electricity\n",
    "engineering_markup     = 3.0    # cost of system integration based on steel costs\n",
    "energy_per_ton         = (steel_Cp_average * delta_T_useful) / 3600 # kWh/ton\n",
    "specific_storage_costs = (steel_price_per_ton / energy_per_ton) / roundtrip_efficiency * engineering_markup\n",
    "\n",
    "print (\"Specific storage costs in €/kWh: {}\".format(specific_storage_costs))"
   ]
  },
  {
   "cell_type": "code",
   "execution_count": null,
   "metadata": {},
   "outputs": [],
   "source": []
  }
 ],
 "metadata": {
  "kernelspec": {
   "display_name": "Python 3",
   "language": "python",
   "name": "python3"
  },
  "language_info": {
   "codemirror_mode": {
    "name": "ipython",
    "version": 3
   },
   "file_extension": ".py",
   "mimetype": "text/x-python",
   "name": "python",
   "nbconvert_exporter": "python",
   "pygments_lexer": "ipython3",
   "version": "3.6.8"
  }
 },
 "nbformat": 4,
 "nbformat_minor": 2
}
